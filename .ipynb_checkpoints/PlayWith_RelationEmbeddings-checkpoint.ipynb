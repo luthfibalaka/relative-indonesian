{
 "cells": [
  {
   "cell_type": "markdown",
   "metadata": {},
   "source": [
    "## Relation embeddings"
   ]
  },
  {
   "cell_type": "markdown",
   "metadata": {},
   "source": [
    "This is a small **tutorial on how to use relation embeddings. In general, you can think of them as word embeddings, but instead of representing a word (e.g. *france*), they represent word pairs (e.g. *france\\_\\_belgium*). First, we need to load our pre-trained relation embeddings with gensim:"
   ]
  },
  {
   "cell_type": "code",
   "execution_count": null,
   "metadata": {},
   "outputs": [],
   "source": [
    "import gensim\n",
    "from gensim.models import KeyedVectors"
   ]
  },
  {
   "cell_type": "code",
   "execution_count": null,
   "metadata": {},
   "outputs": [],
   "source": [
    "path_vectors=\"./relative_wikipedia_en_300d.bin\" # Path to the pre-trained relation embeddings (e.g. \"/home/relative_wikipedia_en_300d.bin\")\n",
    "model=KeyedVectors.load_word2vec_format(path_vectors,binary=True) # You can write binary=False if vectors are in .txt format\n",
    "vocab=model.vocab"
   ]
  },
  {
   "cell_type": "markdown",
   "metadata": {},
   "source": [
    "Then, we can try to output the nearest neighbours of a given word pair in the vector space.\n",
    "*Note*: Words are separated by a double underscore."
   ]
  },
  {
   "cell_type": "code",
   "execution_count": null,
   "metadata": {},
   "outputs": [],
   "source": [
    "top_words=20 # Number of top nearest neighbours to display\n",
    "input_pair=\"belgium__france\" # Input pair\n",
    "ms=model.most_similar(positive=input_pair,topn=top_words)\n",
    "for pair in ms:\n",
    "    print (pair)"
   ]
  },
  {
   "cell_type": "markdown",
   "metadata": {},
   "source": [
    "To check all the pairs available in the vocabulary given a word, you can use the following snippet:"
   ]
  },
  {
   "cell_type": "code",
   "execution_count": null,
   "metadata": {},
   "outputs": [],
   "source": [
    "import re\n",
    "input_word=\"belgium\"\n",
    "list_pairs=[pair for pair in model.vocab if (re.search(\"^\"+input_word+\"\\_\\_\", pair) or re.search(\"\\_\\_\"+input_word+\"$\", pair))]\n",
    "for pair in list_pairs:\n",
    "    print (pair)"
   ]
  },
  {
   "cell_type": "markdown",
   "metadata": {},
   "source": [
    "If you are using our relative or relative-init models, remember that they **share the same space with the word embeddings used as input**. In the case of our pre-trained models, these are fasttext word embeddings. You can then display the nearest words in the vector space given a word pair as input as follows:"
   ]
  },
  {
   "cell_type": "code",
   "execution_count": null,
   "metadata": {},
   "outputs": [],
   "source": [
    "path_words=\"./fasttext_wikipedia_en_300d.bin\" # Path to your word embeddings\n",
    "model_words=KeyedVectors.load_word2vec_format(path_words,binary=True) # You can write binary=False if vectors are in .txt format"
   ]
  },
  {
   "cell_type": "code",
   "execution_count": null,
   "metadata": {},
   "outputs": [],
   "source": [
    "top_words=20 # Number of top nearest neighbours to display\n",
    "input_pair=\"guitar__piano\"\n",
    "input_vector=model.__getitem__(input_pair)\n",
    "ms=model_words.similar_by_vector(input_vector,topn=top_words) #,restrict_vocab=None\n",
    "for word in ms:\n",
    "    print (word)\n"
   ]
  },
  {
   "cell_type": "markdown",
   "metadata": {},
   "source": [
    "Just out of curiosity, try to **play with the relative and relative-init models** and see how different they are in terms of closest words! While in relative-init you will find consistently very frequent words (e.g., punctuation marks), you will find a wider variety in the relative model."
   ]
  }
 ],
 "metadata": {
  "kernelspec": {
   "display_name": "Python 3",
   "language": "python",
   "name": "python3"
  },
  "language_info": {
   "codemirror_mode": {
    "name": "ipython",
    "version": 3
   },
   "file_extension": ".py",
   "mimetype": "text/x-python",
   "name": "python",
   "nbconvert_exporter": "python",
   "pygments_lexer": "ipython3",
   "version": "3.6.7"
  }
 },
 "nbformat": 4,
 "nbformat_minor": 2
}
